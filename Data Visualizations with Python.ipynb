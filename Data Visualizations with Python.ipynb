{
 "cells": [
  {
   "cell_type": "code",
   "execution_count": 2,
   "id": "43c61910",
   "metadata": {},
   "outputs": [],
   "source": [
    "import pandas as pd\n",
    "import matplotlib.pyplot as plt\n",
    "import numpy as np\n",
    "\n",
    "flights_data = pd.read_csv('flights.csv')\n",
    "#print(flights_data.head(10))\n",
    "weather_data_pd = pd.read_csv('weather.csv')\n",
    "weather_data_np = weather_data_pd.to_numpy()\n",
    "\n",
    "#Pandas Data Filtering/Sorting Question Answering\n",
    "#use flights_data"
   ]
  },
  {
   "cell_type": "code",
   "execution_count": 26,
   "id": "d481a633",
   "metadata": {},
   "outputs": [
    {
     "name": "stdout",
     "output_type": "stream",
     "text": [
      "Number of flights from JFK to SLC: 2113\n"
     ]
    }
   ],
   "source": [
    "#Question 1 How many flights were there from JFK to SLC? Int\n",
    "JFK_to_SLC = flights_data[(flights_data['origin'] == 'JFK') & (flights_data['dest'] == 'SLC')]\n",
    "print(\"Number of flights from JFK to SLC: \" + str(len(JFK_to_SLC)))"
   ]
  },
  {
   "cell_type": "code",
   "execution_count": 37,
   "id": "7c95baef",
   "metadata": {},
   "outputs": [
    {
     "name": "stdout",
     "output_type": "stream",
     "text": [
      "Number of airlines that fly to SLC: 2\n",
      "The two unique airlines are: DL,B6\n"
     ]
    }
   ],
   "source": [
    "#Question 2 How many airlines fly to SLC? Should be int\n",
    "Airlines_to_SLC = flights_data[(flights_data['dest'] == 'SLC')]\n",
    "unique_airlines = Airlines_to_SLC['carrier'].unique()\n",
    "print(\"Number of airlines that fly to SLC: \" + str(len(unique_airlines)))\n",
    "unique_airlines_commas = \",\".join(unique_airlines)\n",
    "print(\"The two unique airlines are: \" + unique_airlines_commas)\n",
    "#It is strange that only 2 unique airlines fly to SLC.\n",
    "#I just double checked on Excel and confirmed that it's only 2 unique airlines."
   ]
  },
  {
   "cell_type": "code",
   "execution_count": 47,
   "id": "bcf69e5b",
   "metadata": {},
   "outputs": [
    {
     "name": "stdout",
     "output_type": "stream",
     "text": [
      "The average arrival delay for flights to RDU is: 10.052380952380952\n"
     ]
    }
   ],
   "source": [
    "#Question 3 What is the average arrival delay for flights to RDU? float\n",
    "Arrival_RDU = flights_data[(flights_data['dest'] == 'RDU')]\n",
    "average_arr_delay_RDU = Arrival_RDU['arr_delay'].mean()\n",
    "print(\"The average arrival delay for flights to RDU is: \" + str(average_arr_delay_RDU))"
   ]
  },
  {
   "cell_type": "code",
   "execution_count": 53,
   "id": "2f161c06",
   "metadata": {},
   "outputs": [
    {
     "name": "stdout",
     "output_type": "stream",
     "text": [
      "The proportion of flights to SEA from LGA and JFK: 0.5332653581442773\n"
     ]
    }
   ],
   "source": [
    "#Question 4 What proportion of flights to SEA come from the two NYC airports (LGA and JFK)?  float\n",
    "Flights_to_SEA = flights_data[(flights_data['dest'] == 'SEA')]\n",
    "LGA_to_SEA = flights_data[(flights_data['dest'] == 'SEA') & (flights_data['origin'] == 'LGA')]\n",
    "#There are no flights from LGA to SEA in this dataset. Working with JFK to SEA only.\n",
    "JFK_to_SEA = flights_data[(flights_data['dest'] == 'SEA') & (flights_data['origin'] == 'JFK')]\n",
    "proportion_JFK_LGA_to_all_SEA = len(JFK_to_SEA)/len(Flights_to_SEA)\n",
    "print(\"The proportion of flights to SEA from LGA and JFK: \" + str(proportion_JFK_LGA_to_all_SEA))"
   ]
  },
  {
   "cell_type": "code",
   "execution_count": 65,
   "id": "26a91bbb",
   "metadata": {},
   "outputs": [
    {
     "name": "stdout",
     "output_type": "stream",
     "text": [
      "The date with largest average departure delay is: 2013/3/8 by 83.54\n"
     ]
    }
   ],
   "source": [
    "#Question 5 Which date has the largest average depature delay? Pd slice with date and float\n",
    "#please make date a column. Preferred format is 2013/1/1 (y/m/d)\n",
    "\n",
    "#print(pd.to_datetime(flights_data[['year', 'month', 'day']]))\n",
    "#flights_data['datetime'] = pd.to_datetime(flights_data[['year', 'month', 'day']])\n",
    "#print(flights_data)\n",
    "#max_delay = flights_data.groupby(['datetime']).max('dep_delay')\n",
    "#print(max_delay)\n",
    "avg_by_day = flights_data.groupby(['datetime']).mean(numeric_only = True)\n",
    "max_avg_dep_delay = round(avg_by_day['dep_delay'].max(), 2)\n",
    "date_max_dep_delay = avg_by_day['dep_delay'].idxmax()\n",
    "formatted_date_max_dep_delay = date_max_dep_delay.strftime('%Y/%-m/%-d') #capital Y for YYYY format, -s for removal of leading 0s.\n",
    "print(\"The date with largest average departure delay is: \" + str(formatted_date_max_dep_delay) + \" by \" + str(max_avg_dep_delay))"
   ]
  },
  {
   "cell_type": "code",
   "execution_count": 64,
   "id": "4765e2ca",
   "metadata": {},
   "outputs": [
    {
     "name": "stdout",
     "output_type": "stream",
     "text": [
      "The date with the largest average arrival delay is : 2013/3/8 by 85.86\n"
     ]
    }
   ],
   "source": [
    "#Question 6 Which date has the largest average arrival delay? pd slice with date and float\n",
    "#assume datetime is intact from code above, otherwise run the following:\n",
    "#flights_data['datetime'] = pd.to_datetime(flights_data[['year', 'month', 'day']])\n",
    "avg_by_day = flights_data.groupby(['datetime']).mean(numeric_only = True)\n",
    "max_avg_arr_delay = round(avg_by_day['arr_delay'].max(), 2)\n",
    "date_max_arr_delay = avg_by_day['arr_delay'].idxmax()\n",
    "formatted_date_max_arr_delay = date_max_arr_delay.strftime('%Y/%-m/%-d')\n",
    "print(\"The date with the largest average arrival delay is : \" + str(formatted_date_max_arr_delay) + \" by \" + str(max_avg_arr_delay))"
   ]
  },
  {
   "cell_type": "code",
   "execution_count": 104,
   "id": "ad105e53",
   "metadata": {},
   "outputs": [
    {
     "name": "stdout",
     "output_type": "stream",
     "text": [
      "The fastest flight departing LGA or JFK is: 1499\n"
     ]
    },
    {
     "name": "stderr",
     "output_type": "stream",
     "text": [
      "/var/folders/2l/_wrs1rbd01j906t04dqrf28h0000gn/T/ipykernel_76220/2698860571.py:7: FutureWarning: Dropping invalid columns in DataFrameGroupBy.max is deprecated. In a future version, a TypeError will be raised. Before calling .max, select only columns which should be valid for the function.\n",
      "  max_by_flight_LGA_or_JFK = Dep_LGA_or_JFK.groupby(['flight']).max()\n"
     ]
    }
   ],
   "source": [
    "#Question 7 Which flight departing LGA or JFK in 2013 flew the fastest? pd slice with tailnumber and speed\n",
    "#speed = distance/airtime\n",
    "\n",
    "#flights_data['speed'] = flights_data['distance']/flights_data['air_time']\n",
    "#print(flights_data)\n",
    "Dep_LGA_or_JFK = flights_data[flights_data['origin'].isin(['LGA','JFK'])]\n",
    "max_by_flight_LGA_or_JFK = Dep_LGA_or_JFK.groupby(['flight']).max()\n",
    "fastest_flight_LGA_or_JFK = max_by_flight_LGA_or_JFK['speed'].idxmax()\n",
    "print(\"The fastest flight departing LGA or JFK is: \" + str(fastest_flight_LGA_or_JFK))"
   ]
  },
  {
   "cell_type": "code",
   "execution_count": 117,
   "id": "56b337ff",
   "metadata": {},
   "outputs": [
    {
     "name": "stdout",
     "output_type": "stream",
     "text": [
      "A NaN value is now: 0.0\n"
     ]
    }
   ],
   "source": [
    "#Question 8 Replace all nans in the weather pd dataframe with 0s. Pd with no nans\n",
    "weather_data_pd.fillna(0, inplace = True) #inplace=True is necessary in order to modify the imported doc, rather than a copy of it\n",
    "print(\"A NaN value is now: \" + str(weather_data_pd.iloc[8714,13])) #index 8714,13 'pressure' was NaN"
   ]
  },
  {
   "cell_type": "code",
   "execution_count": 138,
   "id": "65c10418",
   "metadata": {},
   "outputs": [
    {
     "name": "stdout",
     "output_type": "stream",
     "text": [
      "671 observations were made in February.\n"
     ]
    }
   ],
   "source": [
    "#%% Numpy Data Filtering/Sorting Question Answering\n",
    "#Use weather_data_np\n",
    "#Question 9 How many observations were made in Feburary? Int\n",
    "\n",
    "#feb_obs = np.where((weather_data_np[:,3] == 2)) #where every row, 3rd column 'month', is equal to 2\n",
    "#print(type(feb_obs))\n",
    "#I have tried to use the np dataset for hours now, with no luck. Going to use pandas to at least get an answer.\n",
    "#If we're expected to use the np dataset, please teach me how. Or perhaps a break will help....\n",
    "feb = weather_data_pd[(weather_data_pd['month'] == 2)]\n",
    "print(str(len(feb)) + \" observations were made in February.\")"
   ]
  },
  {
   "cell_type": "code",
   "execution_count": 140,
   "id": "17ba9129",
   "metadata": {},
   "outputs": [
    {
     "name": "stdout",
     "output_type": "stream",
     "text": [
      "The average humidity in February was: 62.91815201192251\n"
     ]
    }
   ],
   "source": [
    "#Question 10 What was the mean for humidity in February? Float\n",
    "humidity_feb = feb['humid'].mean()\n",
    "print(\"The average humidity in February was: \" + str(humidity_feb))"
   ]
  },
  {
   "cell_type": "code",
   "execution_count": 141,
   "id": "2915097f",
   "metadata": {},
   "outputs": [
    {
     "name": "stdout",
     "output_type": "stream",
     "text": [
      "The standard deviation of humidity in February was: 20.35207200968259\n"
     ]
    }
   ],
   "source": [
    "#Question 11 What was the std for humidity in February? Float\n",
    "std_humidity_feb = feb['humid'].std()\n",
    "print(\"The standard deviation of humidity in February was: \" + str(std_humidity_feb))\n",
    "\n",
    "#Again, I have tried to use the np dataset for hours now, with no luck. I used pandas to at least get an answer.\n",
    "#If we're expected to use the np dataset, please teach me how. Or perhaps a break will help...."
   ]
  }
 ],
 "metadata": {
  "kernelspec": {
   "display_name": "Python 3.10.6 64-bit",
   "language": "python",
   "name": "python3"
  },
  "language_info": {
   "codemirror_mode": {
    "name": "ipython",
    "version": 3
   },
   "file_extension": ".py",
   "mimetype": "text/x-python",
   "name": "python",
   "nbconvert_exporter": "python",
   "pygments_lexer": "ipython3",
   "version": "3.10.6"
  },
  "vscode": {
   "interpreter": {
    "hash": "aee8b7b246df8f9039afb4144a1f6fd8d2ca17a180786b69acc140d282b71a49"
   }
  }
 },
 "nbformat": 4,
 "nbformat_minor": 5
}
